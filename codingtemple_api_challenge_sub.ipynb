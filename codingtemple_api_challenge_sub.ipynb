{
 "cells": [
  {
   "cell_type": "markdown",
   "metadata": {},
   "source": [
    "Simply put, your main objective for this coding challenge is to send an API request to a server, get the data, then build a solution after getting the data."
   ]
  },
  {
   "cell_type": "markdown",
   "metadata": {},
   "source": [
    "Here's the server address: https://ct-api-challenge.herokuapp.com/<br>"
   ]
  },
  {
   "cell_type": "markdown",
   "metadata": {},
   "source": [
    "The data is a collection of partners who need to attend meetings within their respective countries. For each partner you will find first and last names, email addresses, country locations and dates of availability."
   ]
  },
  {
   "cell_type": "markdown",
   "metadata": {},
   "source": [
    "Your job is to  build an invitation list based on the data. An example solution would look like the following. Keep in mind this is an example and not the real solution."
   ]
  },
  {
   "cell_type": "code",
   "execution_count": 85,
   "metadata": {},
   "outputs": [
    {
     "ename": "AttributeError",
     "evalue": "'People' object has no attribute 'items'",
     "output_type": "error",
     "traceback": [
      "\u001b[0;31m---------------------------------------------------------------------------\u001b[0m",
      "\u001b[0;31mAttributeError\u001b[0m                            Traceback (most recent call last)",
      "\u001b[0;32m<ipython-input-85-83b675674b12>\u001b[0m in \u001b[0;36m<module>\u001b[0;34m\u001b[0m\n\u001b[1;32m    102\u001b[0m \u001b[0;34m\u001b[0m\u001b[0m\n\u001b[1;32m    103\u001b[0m \u001b[0;32mfor\u001b[0m \u001b[0mi\u001b[0m \u001b[0;32min\u001b[0m \u001b[0mrange\u001b[0m\u001b[0;34m(\u001b[0m\u001b[0;36m5\u001b[0m\u001b[0;34m)\u001b[0m\u001b[0;34m:\u001b[0m\u001b[0;34m\u001b[0m\u001b[0;34m\u001b[0m\u001b[0m\n\u001b[0;32m--> 104\u001b[0;31m     \u001b[0mMeeting\u001b[0m\u001b[0;34m.\u001b[0m\u001b[0mrun\u001b[0m\u001b[0;34m(\u001b[0m\u001b[0mi\u001b[0m\u001b[0;34m)\u001b[0m\u001b[0;34m\u001b[0m\u001b[0;34m\u001b[0m\u001b[0m\n\u001b[0m",
      "\u001b[0;32m<ipython-input-85-83b675674b12>\u001b[0m in \u001b[0;36mrun\u001b[0;34m(self, count)\u001b[0m\n\u001b[1;32m     87\u001b[0m \u001b[0;31m#         p.printed()\u001b[0m\u001b[0;34m\u001b[0m\u001b[0;34m\u001b[0m\u001b[0;34m\u001b[0m\u001b[0m\n\u001b[1;32m     88\u001b[0m \u001b[0;31m#         print(Meeting._list)\u001b[0m\u001b[0;34m\u001b[0m\u001b[0;34m\u001b[0m\u001b[0;34m\u001b[0m\u001b[0m\n\u001b[0;32m---> 89\u001b[0;31m         \u001b[0mp\u001b[0m\u001b[0;34m.\u001b[0m\u001b[0mcountry_group\u001b[0m\u001b[0;34m(\u001b[0m\u001b[0mp\u001b[0m\u001b[0;34m)\u001b[0m\u001b[0;34m\u001b[0m\u001b[0;34m\u001b[0m\u001b[0m\n\u001b[0m\u001b[1;32m     90\u001b[0m         \u001b[0mp\u001b[0m\u001b[0;34m.\u001b[0m\u001b[0mtime_check\u001b[0m\u001b[0;34m(\u001b[0m\u001b[0;34m)\u001b[0m\u001b[0;34m\u001b[0m\u001b[0;34m\u001b[0m\u001b[0m\n\u001b[1;32m     91\u001b[0m         \u001b[0mp\u001b[0m\u001b[0;34m.\u001b[0m\u001b[0mtime_aggregator\u001b[0m\u001b[0;34m(\u001b[0m\u001b[0;34m)\u001b[0m\u001b[0;34m\u001b[0m\u001b[0;34m\u001b[0m\u001b[0m\n",
      "\u001b[0;32m<ipython-input-85-83b675674b12>\u001b[0m in \u001b[0;36mcountry_group\u001b[0;34m(self, data)\u001b[0m\n\u001b[1;32m     27\u001b[0m         \u001b[0mset_check\u001b[0m \u001b[0;34m=\u001b[0m \u001b[0mset\u001b[0m\u001b[0;34m(\u001b[0m\u001b[0;34m)\u001b[0m\u001b[0;34m\u001b[0m\u001b[0;34m\u001b[0m\u001b[0m\n\u001b[1;32m     28\u001b[0m \u001b[0;34m\u001b[0m\u001b[0m\n\u001b[0;32m---> 29\u001b[0;31m         \u001b[0;32mfor\u001b[0m \u001b[0mkey\u001b[0m\u001b[0;34m,\u001b[0m \u001b[0mvalue\u001b[0m \u001b[0;32min\u001b[0m \u001b[0mdata\u001b[0m\u001b[0;34m.\u001b[0m\u001b[0mitems\u001b[0m\u001b[0;34m(\u001b[0m\u001b[0;34m)\u001b[0m\u001b[0;34m:\u001b[0m\u001b[0;34m\u001b[0m\u001b[0;34m\u001b[0m\u001b[0m\n\u001b[0m\u001b[1;32m     30\u001b[0m             \u001b[0;32mfor\u001b[0m \u001b[0mstuff\u001b[0m \u001b[0;32min\u001b[0m \u001b[0mvalue\u001b[0m\u001b[0;34m:\u001b[0m\u001b[0;34m\u001b[0m\u001b[0;34m\u001b[0m\u001b[0m\n\u001b[1;32m     31\u001b[0m                 \u001b[0mlist_check\u001b[0m\u001b[0;34m.\u001b[0m\u001b[0mappend\u001b[0m\u001b[0;34m(\u001b[0m\u001b[0mstuff\u001b[0m\u001b[0;34m[\u001b[0m\u001b[0;34m\"country\"\u001b[0m\u001b[0;34m]\u001b[0m\u001b[0;34m)\u001b[0m\u001b[0;34m\u001b[0m\u001b[0;34m\u001b[0m\u001b[0m\n",
      "\u001b[0;31mAttributeError\u001b[0m: 'People' object has no attribute 'items'"
     ]
    }
   ],
   "source": [
    "import requests, pprint\n",
    "pp = pprint.PrettyPrinter(indent=4)\n",
    "# pp.print()\n",
    "\n",
    "class People:\n",
    "    def __init__(self, email=None, country=None, availableDates=None):\n",
    "        self.availableDates = availableDates\n",
    "        self.country = country\n",
    "        self.email = email\n",
    "        \n",
    "    def from_dict(self, data):\n",
    "        for field in ['availableDates', 'country', 'email']:\n",
    "            # set the attribute equal to whichever value corresponds to the key\n",
    "            setattr(self, field, data[field])\n",
    "            \n",
    "    def printed(self):\n",
    "        print(\"+=\"*20)\n",
    "        print(f\"Email: {self.email}\")\n",
    "        print(f\"Country: {self.country}\")\n",
    "        print(f\"Available Date: {self.availableDates}\")\n",
    "        print(\"+=\"*20)\n",
    "        print(\"\\n\")\n",
    "        \n",
    "    @classmethod\n",
    "    def country_group(self, data):\n",
    "        list_check = []\n",
    "        set_check = set()\n",
    "\n",
    "        for key, value in data.items():\n",
    "            for stuff in value:\n",
    "                list_check.append(stuff[\"country\"])\n",
    "                set_check.add(stuff[\"country\"])\n",
    "        print(list_check)\n",
    "        print(set_check)\n",
    "        print()\n",
    "\n",
    "        dict_check = {\"country\": []}\n",
    "        for x in set_check:\n",
    "            dict_check[\"country\"].append(x)\n",
    "            print(dict_check)\n",
    "\n",
    "        print()\n",
    "        print(dict_check)\n",
    "        \n",
    "    def time_check(self):\n",
    "        date2 = date+ timedelta(1)\n",
    "        for dates in p.availableDates:\n",
    "            if dates in data[\"partners\"][count][\"availableDates\"] and date2 in data[\"partners\"][count][\"availableDates\"]:\n",
    "                same_date_flag = 1\n",
    "                keep = True\n",
    "           \n",
    "    def time_aggregator(self):\n",
    "        if keep == True:\n",
    "            return p\n",
    "        \n",
    "    def __repr__(self):\n",
    "#         return f'Email: {self.email}, country: {self.country}, Dates: {self.availableDates}'\n",
    "        return f'Person: {self.email}'\n",
    "\n",
    "    def __str__(self):\n",
    "        return f'Email: {self.email}, country: {country}, Dates: {availableDates}'\n",
    "    \n",
    "class Meeting:    \n",
    "    _list = []\n",
    "    \n",
    "    @classmethod\n",
    "    def running_list(self):\n",
    "        Meeting._list.append(p) \n",
    "    \n",
    "    @classmethod\n",
    "    def run(self, count): \n",
    "        \n",
    "        dictionary = requests.get(f'https://ct-api-challenge.herokuapp.com/').json()\n",
    "        email = dictionary[\"partners\"][count][\"email\"]\n",
    "        country = dictionary[\"partners\"][count][\"country\"]\n",
    "#         availabledates = dictionary[\"partners\"][count][\"availableDates\"]\n",
    "        \n",
    "        \n",
    "        ad = dictionary[\"partners\"][count][\"availableDates\"]\n",
    "        availableDates = []\n",
    "        for x in ad:\n",
    "            date = datetime.strptime(x, '%Y-%m-%d')\n",
    "            availableDates.append(date) \n",
    "\n",
    "        p = People(email, country, availableDates)\n",
    "        Meeting._list.append(p) \n",
    "#         p.printed()\n",
    "#         print(Meeting._list)\n",
    "        p.country_group(p)\n",
    "        p.time_check()\n",
    "        p.time_aggregator()\n",
    "\n",
    "#         dictionary = requests.get(f'https://ct-api-challenge.herokuapp.com/').json()\n",
    "#         p = People()\n",
    "#         data = {\n",
    "#             'availableDates': dictionary[\"partners\"][count][\"availableDates\"], \n",
    "#             'country': dictionary[\"partners\"][count][\"country\"],\n",
    "#             'email': dictionary[\"partners\"][count][\"email\"]\n",
    "#         }\n",
    "#         p.from_dict(data)\n",
    "           \n",
    "            \n",
    "for i in range(5):\n",
    "    Meeting.run(i)"
   ]
  },
  {
   "cell_type": "code",
   "execution_count": null,
   "metadata": {},
   "outputs": [],
   "source": []
  }
 ],
 "metadata": {
  "kernelspec": {
   "display_name": "Python 3",
   "language": "python",
   "name": "python3"
  },
  "language_info": {
   "codemirror_mode": {
    "name": "ipython",
    "version": 3
   },
   "file_extension": ".py",
   "mimetype": "text/x-python",
   "name": "python",
   "nbconvert_exporter": "python",
   "pygments_lexer": "ipython3",
   "version": "3.8.5"
  }
 },
 "nbformat": 4,
 "nbformat_minor": 4
}
